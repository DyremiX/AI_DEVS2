{
 "cells": [
  {
   "cell_type": "markdown",
   "metadata": {},
   "source": [
    "Zadanie 4, moderation"
   ]
  },
  {
   "cell_type": "code",
   "execution_count": 98,
   "metadata": {},
   "outputs": [],
   "source": [
    "import requests\n",
    "import json\n",
    "from openai import OpenAI"
   ]
  },
  {
   "cell_type": "markdown",
   "metadata": {},
   "source": [
    "Prywatne !!!"
   ]
  },
  {
   "cell_type": "code",
   "execution_count": 99,
   "metadata": {},
   "outputs": [],
   "source": [
    "client = OpenAI(api_key='tokenAPI')\n",
    "url = 'https://tasks.aidevs.pl'\n",
    "data = \"{\\\"apikey\\\": \\\"61e4ced9-3ca1-4016-919c-190b29bba9ce\\\"}\"\n",
    "zadanie = 'moderation'"
   ]
  },
  {
   "cell_type": "markdown",
   "metadata": {},
   "source": [
    "Najpierw pobieramy token autoryzacyjny"
   ]
  },
  {
   "cell_type": "code",
   "execution_count": 100,
   "metadata": {},
   "outputs": [
    {
     "data": {
      "text/plain": [
       "{'code': 0, 'msg': 'OK', 'token': '9d0d86bf695ce6150c87f62b6506c75c3583ca10'}"
      ]
     },
     "execution_count": 100,
     "metadata": {},
     "output_type": "execute_result"
    }
   ],
   "source": [
    "response = requests.post(url + '/token/' + zadanie,data)\n",
    "token_auth = response.json()['token']\n",
    "response.json()"
   ]
  },
  {
   "cell_type": "markdown",
   "metadata": {},
   "source": [
    "Potem pobieramy zadanie"
   ]
  },
  {
   "cell_type": "code",
   "execution_count": 101,
   "metadata": {},
   "outputs": [
    {
     "data": {
      "text/plain": [
       "{'code': 0,\n",
       " 'msg': 'please return 0/1 for each sentence to classify if this is content that requires moderation',\n",
       " 'input': ['majonez Winiary jest lepszy od Kieleckiego',\n",
       "  'azjaci są głupi i brzydcy i nie powinni żyć',\n",
       "  'Sasha.Grey.s3x.p0rn.extreme-interracial.S03E12.DVDRip.mp4',\n",
       "  'ten gość musi zginąć. Nie pozwole sobię na obrażanie mnie.']}"
      ]
     },
     "execution_count": 101,
     "metadata": {},
     "output_type": "execute_result"
    }
   ],
   "source": [
    "quest = requests.get(url + '/task/' + token_auth)\n",
    "quest.json()"
   ]
  },
  {
   "cell_type": "markdown",
   "metadata": {},
   "source": [
    "Rozwiązanie"
   ]
  },
  {
   "cell_type": "code",
   "execution_count": 102,
   "metadata": {},
   "outputs": [
    {
     "name": "stdout",
     "output_type": "stream",
     "text": [
      "majonez Winiary jest lepszy od Kieleckiego\n",
      "0\n",
      "azjaci są głupi i brzydcy i nie powinni żyć\n",
      "1\n",
      "Sasha.Grey.s3x.p0rn.extreme-interracial.S03E12.DVDRip.mp4\n",
      "1\n",
      "ten gość musi zginąć. Nie pozwole sobię na obrażanie mnie.\n",
      "1\n"
     ]
    }
   ],
   "source": [
    "answer_moderation = []\n",
    "for x in quest.json()['input']:\n",
    "    print(x)\n",
    "    answer_moderation.append(int(client.moderations.create(input=x).results[0].flagged))\n",
    "    print(answer_moderation[-1])"
   ]
  },
  {
   "cell_type": "code",
   "execution_count": 103,
   "metadata": {},
   "outputs": [
    {
     "data": {
      "text/plain": [
       "'[0, 1, 1, 1]'"
      ]
     },
     "execution_count": 103,
     "metadata": {},
     "output_type": "execute_result"
    }
   ],
   "source": [
    "json.dumps(answer_moderation)"
   ]
  },
  {
   "cell_type": "markdown",
   "metadata": {},
   "source": [
    "szykujemy odpowiedź"
   ]
  },
  {
   "cell_type": "code",
   "execution_count": 104,
   "metadata": {},
   "outputs": [
    {
     "data": {
      "text/plain": [
       "'{\"answer\":[0, 1, 1, 1]}'"
      ]
     },
     "execution_count": 104,
     "metadata": {},
     "output_type": "execute_result"
    }
   ],
   "source": [
    "data = \"{\\\"answer\\\":\" + json.dumps(answer_moderation)+\"}\"\n",
    "data"
   ]
  },
  {
   "cell_type": "markdown",
   "metadata": {},
   "source": [
    "Odpowiadamy"
   ]
  },
  {
   "cell_type": "code",
   "execution_count": 105,
   "metadata": {},
   "outputs": [
    {
     "name": "stdout",
     "output_type": "stream",
     "text": [
      "{\n",
      "    \"code\": 0,\n",
      "    \"msg\": \"OK\",\n",
      "    \"note\": \"CORRECT\"\n",
      "}\n"
     ]
    }
   ],
   "source": [
    "answer = requests.post(url + '/answer/' + token_auth, data)\n",
    "\n",
    "print(answer.text)"
   ]
  }
 ],
 "metadata": {
  "kernelspec": {
   "display_name": "Python 3",
   "language": "python",
   "name": "python3"
  },
  "language_info": {
   "codemirror_mode": {
    "name": "ipython",
    "version": 3
   },
   "file_extension": ".py",
   "mimetype": "text/x-python",
   "name": "python",
   "nbconvert_exporter": "python",
   "pygments_lexer": "ipython3",
   "version": "3.11.7"
  }
 },
 "nbformat": 4,
 "nbformat_minor": 2
}
