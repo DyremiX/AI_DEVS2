{
 "cells": [
  {
   "cell_type": "markdown",
   "metadata": {},
   "source": [
    "Zadanie 4, moderation"
   ]
  },
  {
   "cell_type": "code",
   "execution_count": 25,
   "metadata": {},
   "outputs": [],
   "source": [
    "import requests\n",
    "import json\n",
    "from openai import OpenAI"
   ]
  },
  {
   "cell_type": "markdown",
   "metadata": {},
   "source": [
    "Prywatne !!!"
   ]
  },
  {
   "cell_type": "code",
   "execution_count": 26,
   "metadata": {},
   "outputs": [],
   "source": [
    "client = OpenAI(api_key='tokenAPI')\n",
    "url = 'https://tasks.aidevs.pl'\n",
    "data = \"{\\\"apikey\\\": \\\"61e4ced9-3ca1-4016-919c-190b29bba9ce\\\"}\"\n",
    "zadanie = 'blogger'"
   ]
  },
  {
   "cell_type": "markdown",
   "metadata": {},
   "source": [
    "Najpierw pobieramy token autoryzacyjny"
   ]
  },
  {
   "cell_type": "code",
   "execution_count": 27,
   "metadata": {},
   "outputs": [
    {
     "data": {
      "text/plain": [
       "{'code': 0, 'msg': 'OK', 'token': 'ef1dd2bf248dad15dfb2e187b9145b8e9b87ecfa'}"
      ]
     },
     "execution_count": 27,
     "metadata": {},
     "output_type": "execute_result"
    }
   ],
   "source": [
    "response = requests.post(url + '/token/' + zadanie,data)\n",
    "token_auth = response.json()['token']\n",
    "response.json()"
   ]
  },
  {
   "cell_type": "markdown",
   "metadata": {},
   "source": [
    "Potem pobieramy zadanie"
   ]
  },
  {
   "cell_type": "code",
   "execution_count": 28,
   "metadata": {},
   "outputs": [
    {
     "data": {
      "text/plain": [
       "{'code': 0,\n",
       " 'msg': 'please write blog post for the provided outline',\n",
       " 'blog': ['Wstęp: kilka słów na temat historii pizzy',\n",
       "  'Niezbędne składniki na pizzę',\n",
       "  'Robienie pizzy',\n",
       "  'Pieczenie pizzy w piekarniku']}"
      ]
     },
     "execution_count": 28,
     "metadata": {},
     "output_type": "execute_result"
    }
   ],
   "source": [
    "quest = requests.get(url + '/task/' + token_auth)\n",
    "quest.json()"
   ]
  },
  {
   "cell_type": "markdown",
   "metadata": {},
   "source": [
    "Rozwiązanie"
   ]
  },
  {
   "cell_type": "code",
   "execution_count": 29,
   "metadata": {},
   "outputs": [],
   "source": [
    "def blogger(rozdzial):\n",
    "    return client.chat.completions.create(\n",
    "  model=\"gpt-3.5-turbo\",\n",
    "  messages=[\n",
    "    {\"role\": \"system\", \"content\": \"Jesteś znanym bloggerem. Dostajesz od szefostwa zadanie napisania bloga na temat przyrządzania margeritty, dostajesz od użytkownika tematy rozdziałów i zwracasz ich treść napisaną przez ciebie\"},\n",
    "    {\"role\": \"user\", \"content\": rozdzial}\n",
    "  ]\n",
    ")"
   ]
  },
  {
   "cell_type": "code",
   "execution_count": 30,
   "metadata": {},
   "outputs": [
    {
     "name": "stdout",
     "output_type": "stream",
     "text": [
      "Wstęp: kilka słów na temat historii pizzy\n",
      "Pizza, to danie, które podbiło serca niejednego smakosza na całym świecie. Jej historia sięga starożytnych czasów, kiedy to pierwsze wzmianki o podobnych potrawach pojawiły się już w starożytnym Egipcie, Grecji i Rzymie. Jednak to we Włoszech pizza uzyskała swoją największą popularność i znaczenie. W Neapolu, uważanym za kolebkę pizzy, we współczesnym jej kształcie zaczęła się rozwijać i zyskiwać popularność na światową skalę. Dziś pizza jest jednym z najbardziej rozpoznawalnych dań włoskiej kuchni, a jednym z najpopularniejszych jej rodzajów jest pizza margherita.\n",
      "Niezbędne składniki na pizzę\n",
      "Składniki na pizzę to podstawa każdej dobrze przygotowanej potrawy. Bez nich trudno wyobrazić sobie smakowitą i aromatyczną pizzę, a jednym z najbardziej popularnych rodzajów pizzy jest Margherita. Oto lista niezbędnych składników tego klasycznego przysmaku:\n",
      "\n",
      "1. Ciasto – podstawa każdej pizzy. Możesz użyć gotowego ciasta do pizzy lub przygotować je samodzielnie, łącząc mąkę, drożdże, wodę, oliwę z oliwek i odrobinę soli.\n",
      "\n",
      "2. Sos pomidorowy – gęsty i aromatyczny sos z pomidorów, przyprawiony ziołami jak oregano, bazylia, czosnek i cebula.\n",
      "\n",
      "3. Ser mozzarella – tradycyjny włoski ser, który doskonale się rozpuszcza i nadaje się do pizzy. Mozzarella jest lekko słona i ma delikatny smak, idealnie komponujący się z pozostałymi składnikami.\n",
      "\n",
      "4. Świeże liście bazylii – aromatyczna zioła, które dodają pizzy charakterystycznego smaku i aromatu.\n",
      "\n",
      "Przygotowanie pizzy Margherita jest stosunkowo proste – po rozwałkowaniu ciasta na placek, należy posmarować je sosem pomidorowym, posypać startym serem mozzarella i ułożyć świeże liście bazylii. Następnie pizza powinna być pieczona w nagrzanym piecu przez około 10-15 minut, aż ciasto będzie chrupiące, a ser roztopiony i lekko zrumieniony.\n",
      "\n",
      "Smacznego!\n",
      "Robienie pizzy\n",
      "**Mistrzowskie sztuczki przy przyrządzaniu margeritty**\n",
      "\n",
      "Pizza Margherita to jedno z najbardziej klasycznych dań włoskiej kuchni. Jest to potrawa, która wymaga precyzji i umiejętności, ale jednocześnie może być przygotowana w zaciszu własnej kuchni. Dziś podzielę się z Wami kilkoma niezawodnymi trikami, które sprawią, że Wasza margerita będzie smakować jak ta prosto z niewielkiej pizzerii na uliczkach Neapolu.\n",
      "\n",
      "**1. Wybierz wysokiej jakości składniki**\n",
      "Pizza Margherita składa się z zaledwie kilku składników, dlatego warto postawić na najwyższą jakość. Wybierz soczyste pomidory San Marzano, świeże gałki mozzarelli oraz świeżą bazylię. Oryginalne włoskie składniki sprawią, że Wasza pizza będzie smakować autentycznie.\n",
      "\n",
      "**2. Przygotuj doskonałe ciasto**\n",
      "Ciasto to podstawa udanej pizzy. Pamiętaj, aby pozwolić mu odpowiednio wyrosnąć, a następnie rozwałkuj je cienko, aby pizza była chrupiąca. Jeśli nie masz czasu na przygotowywanie własnego ciasta, można skorzystać z gotowych podstawek dostępnych w sklepach.\n",
      "\n",
      "**3. Delikatnie posmaruj sos pomidorowy**\n",
      "Sos pomidorowy stanowi bazę pizzy Margherita, dlatego warto zadbać o jego odpowiednią konsystencję i smak. Posmaruj cienką warstwą sosu całe ciasto, starając się nie przesadzić, aby nie przytłoczyć pozostałych składników.\n",
      "\n",
      "**4. Rozłóż równomiernie mozzarellę**\n",
      "Każdy kawałek pizzy powinien zawierać równą ilość mozzarelli, aby ser równomiernie roztopił się na całej powierzchni. Możesz użyć kawałków świeżej mozzarelli lub startej mozzarelli, ale pamiętaj o proporcjach.\n",
      "\n",
      "**5. Dodaj świeżą bazylię tuż przed podaniem**\n",
      "Bazylię dodaj na sam koniec, zaraz po wyjęciu pizzy z pieca. Świeżość bazylii podkreśli smak pozostałych składników i doda charakterystycznego aromatu.\n",
      "\n",
      "**6. Pamiętaj o odpowiedniej temperaturze pieca**\n",
      "Pizza Margherita najlepiej smakuje, gdy jest pieczona w bardzo gorącym piecu. Dlatego upewnij się, że Twój piekarnik jest nagrzany do maksymalnej temperatury, aby pizza zyskała chrupiącą skórkę i równo roztopiony ser.\n",
      "\n",
      "Gotowanie pizzy Margherita może być prawdziwą sztuką, ale z tymi prostymi trikami każdy może stworzyć perfekcyjne włoskie danie w swojej własnej kuchni. Odkryj radość z przyrządzania autentycznej pizzy Margherita i delektuj się smakiem tradycji włoskiej kuchni! Buon appetito!\n",
      "Pieczenie pizzy w piekarniku\n",
      "# Pieczenie pizzy w piekarniku: Praktyczny przewodnik\n",
      "\n",
      "Pieczenie pizzy w piekarniku może być prawdziwą sztuką, ale nie musi być trudne! Wystarczy kilka prostych kroków, aby stworzyć idealnie chrupiącą i smaczną pizzę Margheritę w domowym zaciszu. Warto pamiętać o kilku istotnych wskazówkach, które pomogą Ci osiągnąć doskonały efekt.\n",
      "\n",
      "## Składniki\n",
      "\n",
      "Przed rozpoczęciem pieczenia pizzy upewnij się, że masz wszystkie niezbędne składniki. Do przygotowania pizzy Margherity potrzebujesz:\n",
      "\n",
      "- Ciasto na pizzę (możesz użyć gotowego lub przygotować je samodzielnie)\n",
      "- Sos pomidorowy\n",
      "- Mozzarella\n",
      "- Świeże bazylia\n",
      "- Oliwa z oliwek\n",
      "- Sól i pieprz\n",
      "\n",
      "## Przygotowanie ciasta\n",
      "\n",
      "Jeśli korzystasz z gotowego ciasta na pizzę, wystarczy rozwałkować je na blasze wyłożonej papierem do pieczenia. Jeśli chcesz przygotować ciasto samodzielnie, zanurz się w procesie wytwarzania ciasta zgodnie z wybranym przepisem.\n",
      "\n",
      "## Dodanie składników\n",
      "\n",
      "Na rozwałkowanym cieście rozprowadź sos pomidorowy, pozostawiając nieco miejsca na brzegach. Następnie dodaj plastry mozzarelli i bazylię. Skrop oliwą z oliwek i posyp solą oraz pieprzem.\n",
      "\n",
      "## Pieczenie\n",
      "\n",
      "Piekarnik należy wcześniej nagrzać do odpowiedniej temperatury (najlepiej sprawdzić wskazówki na opakowaniu ciasta). Gdy temperatura jest odpowiednia, włóż przygotowaną pizzę na środek piekarnika. Piecz przez około 12-15 minut lub do momentu, gdy brzegi będą rumiane, a ser roztopiony.\n",
      "\n",
      "## Sprawdzanie gotowości\n",
      "\n",
      "Aby upewnić się, że pizza jest gotowa, sprawdź, czy spód jest chrupiący, a ser równomiernie roztopiony. Niektóre pieczenie mogą wymagać nieco dłuższego czasu w zależności od charakterystyki piekarnika, dlatego warto obserwować proces pieczenia.\n",
      "\n",
      "## Podanie\n",
      "\n",
      "Gotową pizzę Margheritę można dodatkowo udekorować listkami świeżej bazylii i skropić oliwą z oliwek. Podawaj gorącą i gotową do spożycia!\n",
      "\n",
      "Pieczenie pizzy w piekarniku może być przyjemnym doświadczeniem, zwłaszcza gdy efekt końcowy przekracza oczekiwania. Dzięki tym prostym wskazówkom możesz cieszyć się smaczną i świeżą pizzą Margheritą w zaciszu własnego domu. Smacznego!\n"
     ]
    }
   ],
   "source": [
    "answer_blogger = []\n",
    "for x in quest.json()['blog']:\n",
    "    print(x)\n",
    "    answer_blogger.append(blogger(x).choices[0].message.content)\n",
    "    print(answer_blogger[-1])"
   ]
  },
  {
   "cell_type": "code",
   "execution_count": 31,
   "metadata": {},
   "outputs": [
    {
     "data": {
      "text/plain": [
       "'[\"Pizza, to danie, kt\\\\u00f3re podbi\\\\u0142o serca niejednego smakosza na ca\\\\u0142ym \\\\u015bwiecie. Jej historia si\\\\u0119ga staro\\\\u017cytnych czas\\\\u00f3w, kiedy to pierwsze wzmianki o podobnych potrawach pojawi\\\\u0142y si\\\\u0119 ju\\\\u017c w staro\\\\u017cytnym Egipcie, Grecji i Rzymie. Jednak to we W\\\\u0142oszech pizza uzyska\\\\u0142a swoj\\\\u0105 najwi\\\\u0119ksz\\\\u0105 popularno\\\\u015b\\\\u0107 i znaczenie. W Neapolu, uwa\\\\u017canym za kolebk\\\\u0119 pizzy, we wsp\\\\u00f3\\\\u0142czesnym jej kszta\\\\u0142cie zacz\\\\u0119\\\\u0142a si\\\\u0119 rozwija\\\\u0107 i zyskiwa\\\\u0107 popularno\\\\u015b\\\\u0107 na \\\\u015bwiatow\\\\u0105 skal\\\\u0119. Dzi\\\\u015b pizza jest jednym z najbardziej rozpoznawalnych da\\\\u0144 w\\\\u0142oskiej kuchni, a jednym z najpopularniejszych jej rodzaj\\\\u00f3w jest pizza margherita.\", \"Sk\\\\u0142adniki na pizz\\\\u0119 to podstawa ka\\\\u017cdej dobrze przygotowanej potrawy. Bez nich trudno wyobrazi\\\\u0107 sobie smakowit\\\\u0105 i aromatyczn\\\\u0105 pizz\\\\u0119, a jednym z najbardziej popularnych rodzaj\\\\u00f3w pizzy jest Margherita. Oto lista niezb\\\\u0119dnych sk\\\\u0142adnik\\\\u00f3w tego klasycznego przysmaku:\\\\n\\\\n1. Ciasto \\\\u2013 podstawa ka\\\\u017cdej pizzy. Mo\\\\u017cesz u\\\\u017cy\\\\u0107 gotowego ciasta do pizzy lub przygotowa\\\\u0107 je samodzielnie, \\\\u0142\\\\u0105cz\\\\u0105c m\\\\u0105k\\\\u0119, dro\\\\u017cd\\\\u017ce, wod\\\\u0119, oliw\\\\u0119 z oliwek i odrobin\\\\u0119 soli.\\\\n\\\\n2. Sos pomidorowy \\\\u2013 g\\\\u0119sty i aromatyczny sos z pomidor\\\\u00f3w, przyprawiony zio\\\\u0142ami jak oregano, bazylia, czosnek i cebula.\\\\n\\\\n3. Ser mozzarella \\\\u2013 tradycyjny w\\\\u0142oski ser, kt\\\\u00f3ry doskonale si\\\\u0119 rozpuszcza i nadaje si\\\\u0119 do pizzy. Mozzarella jest lekko s\\\\u0142ona i ma delikatny smak, idealnie komponuj\\\\u0105cy si\\\\u0119 z pozosta\\\\u0142ymi sk\\\\u0142adnikami.\\\\n\\\\n4. \\\\u015awie\\\\u017ce li\\\\u015bcie bazylii \\\\u2013 aromatyczna zio\\\\u0142a, kt\\\\u00f3re dodaj\\\\u0105 pizzy charakterystycznego smaku i aromatu.\\\\n\\\\nPrzygotowanie pizzy Margherita jest stosunkowo proste \\\\u2013 po rozwa\\\\u0142kowaniu ciasta na placek, nale\\\\u017cy posmarowa\\\\u0107 je sosem pomidorowym, posypa\\\\u0107 startym serem mozzarella i u\\\\u0142o\\\\u017cy\\\\u0107 \\\\u015bwie\\\\u017ce li\\\\u015bcie bazylii. Nast\\\\u0119pnie pizza powinna by\\\\u0107 pieczona w nagrzanym piecu przez oko\\\\u0142o 10-15 minut, a\\\\u017c ciasto b\\\\u0119dzie chrupi\\\\u0105ce, a ser roztopiony i lekko zrumieniony.\\\\n\\\\nSmacznego!\", \"**Mistrzowskie sztuczki przy przyrz\\\\u0105dzaniu margeritty**\\\\n\\\\nPizza Margherita to jedno z najbardziej klasycznych da\\\\u0144 w\\\\u0142oskiej kuchni. Jest to potrawa, kt\\\\u00f3ra wymaga precyzji i umiej\\\\u0119tno\\\\u015bci, ale jednocze\\\\u015bnie mo\\\\u017ce by\\\\u0107 przygotowana w zaciszu w\\\\u0142asnej kuchni. Dzi\\\\u015b podziel\\\\u0119 si\\\\u0119 z Wami kilkoma niezawodnymi trikami, kt\\\\u00f3re sprawi\\\\u0105, \\\\u017ce Wasza margerita b\\\\u0119dzie smakowa\\\\u0107 jak ta prosto z niewielkiej pizzerii na uliczkach Neapolu.\\\\n\\\\n**1. Wybierz wysokiej jako\\\\u015bci sk\\\\u0142adniki**\\\\nPizza Margherita sk\\\\u0142ada si\\\\u0119 z zaledwie kilku sk\\\\u0142adnik\\\\u00f3w, dlatego warto postawi\\\\u0107 na najwy\\\\u017csz\\\\u0105 jako\\\\u015b\\\\u0107. Wybierz soczyste pomidory San Marzano, \\\\u015bwie\\\\u017ce ga\\\\u0142ki mozzarelli oraz \\\\u015bwie\\\\u017c\\\\u0105 bazyli\\\\u0119. Oryginalne w\\\\u0142oskie sk\\\\u0142adniki sprawi\\\\u0105, \\\\u017ce Wasza pizza b\\\\u0119dzie smakowa\\\\u0107 autentycznie.\\\\n\\\\n**2. Przygotuj doskona\\\\u0142e ciasto**\\\\nCiasto to podstawa udanej pizzy. Pami\\\\u0119taj, aby pozwoli\\\\u0107 mu odpowiednio wyrosn\\\\u0105\\\\u0107, a nast\\\\u0119pnie rozwa\\\\u0142kuj je cienko, aby pizza by\\\\u0142a chrupi\\\\u0105ca. Je\\\\u015bli nie masz czasu na przygotowywanie w\\\\u0142asnego ciasta, mo\\\\u017cna skorzysta\\\\u0107 z gotowych podstawek dost\\\\u0119pnych w sklepach.\\\\n\\\\n**3. Delikatnie posmaruj sos pomidorowy**\\\\nSos pomidorowy stanowi baz\\\\u0119 pizzy Margherita, dlatego warto zadba\\\\u0107 o jego odpowiedni\\\\u0105 konsystencj\\\\u0119 i smak. Posmaruj cienk\\\\u0105 warstw\\\\u0105 sosu ca\\\\u0142e ciasto, staraj\\\\u0105c si\\\\u0119 nie przesadzi\\\\u0107, aby nie przyt\\\\u0142oczy\\\\u0107 pozosta\\\\u0142ych sk\\\\u0142adnik\\\\u00f3w.\\\\n\\\\n**4. Roz\\\\u0142\\\\u00f3\\\\u017c r\\\\u00f3wnomiernie mozzarell\\\\u0119**\\\\nKa\\\\u017cdy kawa\\\\u0142ek pizzy powinien zawiera\\\\u0107 r\\\\u00f3wn\\\\u0105 ilo\\\\u015b\\\\u0107 mozzarelli, aby ser r\\\\u00f3wnomiernie roztopi\\\\u0142 si\\\\u0119 na ca\\\\u0142ej powierzchni. Mo\\\\u017cesz u\\\\u017cy\\\\u0107 kawa\\\\u0142k\\\\u00f3w \\\\u015bwie\\\\u017cej mozzarelli lub startej mozzarelli, ale pami\\\\u0119taj o proporcjach.\\\\n\\\\n**5. Dodaj \\\\u015bwie\\\\u017c\\\\u0105 bazyli\\\\u0119 tu\\\\u017c przed podaniem**\\\\nBazyli\\\\u0119 dodaj na sam koniec, zaraz po wyj\\\\u0119ciu pizzy z pieca. \\\\u015awie\\\\u017co\\\\u015b\\\\u0107 bazylii podkre\\\\u015bli smak pozosta\\\\u0142ych sk\\\\u0142adnik\\\\u00f3w i doda charakterystycznego aromatu.\\\\n\\\\n**6. Pami\\\\u0119taj o odpowiedniej temperaturze pieca**\\\\nPizza Margherita najlepiej smakuje, gdy jest pieczona w bardzo gor\\\\u0105cym piecu. Dlatego upewnij si\\\\u0119, \\\\u017ce Tw\\\\u00f3j piekarnik jest nagrzany do maksymalnej temperatury, aby pizza zyska\\\\u0142a chrupi\\\\u0105c\\\\u0105 sk\\\\u00f3rk\\\\u0119 i r\\\\u00f3wno roztopiony ser.\\\\n\\\\nGotowanie pizzy Margherita mo\\\\u017ce by\\\\u0107 prawdziw\\\\u0105 sztuk\\\\u0105, ale z tymi prostymi trikami ka\\\\u017cdy mo\\\\u017ce stworzy\\\\u0107 perfekcyjne w\\\\u0142oskie danie w swojej w\\\\u0142asnej kuchni. Odkryj rado\\\\u015b\\\\u0107 z przyrz\\\\u0105dzania autentycznej pizzy Margherita i delektuj si\\\\u0119 smakiem tradycji w\\\\u0142oskiej kuchni! Buon appetito!\", \"# Pieczenie pizzy w piekarniku: Praktyczny przewodnik\\\\n\\\\nPieczenie pizzy w piekarniku mo\\\\u017ce by\\\\u0107 prawdziw\\\\u0105 sztuk\\\\u0105, ale nie musi by\\\\u0107 trudne! Wystarczy kilka prostych krok\\\\u00f3w, aby stworzy\\\\u0107 idealnie chrupi\\\\u0105c\\\\u0105 i smaczn\\\\u0105 pizz\\\\u0119 Margherit\\\\u0119 w domowym zaciszu. Warto pami\\\\u0119ta\\\\u0107 o kilku istotnych wskaz\\\\u00f3wkach, kt\\\\u00f3re pomog\\\\u0105 Ci osi\\\\u0105gn\\\\u0105\\\\u0107 doskona\\\\u0142y efekt.\\\\n\\\\n## Sk\\\\u0142adniki\\\\n\\\\nPrzed rozpocz\\\\u0119ciem pieczenia pizzy upewnij si\\\\u0119, \\\\u017ce masz wszystkie niezb\\\\u0119dne sk\\\\u0142adniki. Do przygotowania pizzy Margherity potrzebujesz:\\\\n\\\\n- Ciasto na pizz\\\\u0119 (mo\\\\u017cesz u\\\\u017cy\\\\u0107 gotowego lub przygotowa\\\\u0107 je samodzielnie)\\\\n- Sos pomidorowy\\\\n- Mozzarella\\\\n- \\\\u015awie\\\\u017ce bazylia\\\\n- Oliwa z oliwek\\\\n- S\\\\u00f3l i pieprz\\\\n\\\\n## Przygotowanie ciasta\\\\n\\\\nJe\\\\u015bli korzystasz z gotowego ciasta na pizz\\\\u0119, wystarczy rozwa\\\\u0142kowa\\\\u0107 je na blasze wy\\\\u0142o\\\\u017conej papierem do pieczenia. Je\\\\u015bli chcesz przygotowa\\\\u0107 ciasto samodzielnie, zanurz si\\\\u0119 w procesie wytwarzania ciasta zgodnie z wybranym przepisem.\\\\n\\\\n## Dodanie sk\\\\u0142adnik\\\\u00f3w\\\\n\\\\nNa rozwa\\\\u0142kowanym cie\\\\u015bcie rozprowad\\\\u017a sos pomidorowy, pozostawiaj\\\\u0105c nieco miejsca na brzegach. Nast\\\\u0119pnie dodaj plastry mozzarelli i bazyli\\\\u0119. Skrop oliw\\\\u0105 z oliwek i posyp sol\\\\u0105 oraz pieprzem.\\\\n\\\\n## Pieczenie\\\\n\\\\nPiekarnik nale\\\\u017cy wcze\\\\u015bniej nagrza\\\\u0107 do odpowiedniej temperatury (najlepiej sprawdzi\\\\u0107 wskaz\\\\u00f3wki na opakowaniu ciasta). Gdy temperatura jest odpowiednia, w\\\\u0142\\\\u00f3\\\\u017c przygotowan\\\\u0105 pizz\\\\u0119 na \\\\u015brodek piekarnika. Piecz przez oko\\\\u0142o 12-15 minut lub do momentu, gdy brzegi b\\\\u0119d\\\\u0105 rumiane, a ser roztopiony.\\\\n\\\\n## Sprawdzanie gotowo\\\\u015bci\\\\n\\\\nAby upewni\\\\u0107 si\\\\u0119, \\\\u017ce pizza jest gotowa, sprawd\\\\u017a, czy sp\\\\u00f3d jest chrupi\\\\u0105cy, a ser r\\\\u00f3wnomiernie roztopiony. Niekt\\\\u00f3re pieczenie mog\\\\u0105 wymaga\\\\u0107 nieco d\\\\u0142u\\\\u017cszego czasu w zale\\\\u017cno\\\\u015bci od charakterystyki piekarnika, dlatego warto obserwowa\\\\u0107 proces pieczenia.\\\\n\\\\n## Podanie\\\\n\\\\nGotow\\\\u0105 pizz\\\\u0119 Margherit\\\\u0119 mo\\\\u017cna dodatkowo udekorowa\\\\u0107 listkami \\\\u015bwie\\\\u017cej bazylii i skropi\\\\u0107 oliw\\\\u0105 z oliwek. Podawaj gor\\\\u0105c\\\\u0105 i gotow\\\\u0105 do spo\\\\u017cycia!\\\\n\\\\nPieczenie pizzy w piekarniku mo\\\\u017ce by\\\\u0107 przyjemnym do\\\\u015bwiadczeniem, zw\\\\u0142aszcza gdy efekt ko\\\\u0144cowy przekracza oczekiwania. Dzi\\\\u0119ki tym prostym wskaz\\\\u00f3wkom mo\\\\u017cesz cieszy\\\\u0107 si\\\\u0119 smaczn\\\\u0105 i \\\\u015bwie\\\\u017c\\\\u0105 pizz\\\\u0105 Margherit\\\\u0105 w zaciszu w\\\\u0142asnego domu. Smacznego!\"]'"
      ]
     },
     "execution_count": 31,
     "metadata": {},
     "output_type": "execute_result"
    }
   ],
   "source": [
    "json.dumps(answer_blogger)"
   ]
  },
  {
   "cell_type": "markdown",
   "metadata": {},
   "source": [
    "szykujemy odpowiedź"
   ]
  },
  {
   "cell_type": "code",
   "execution_count": 32,
   "metadata": {},
   "outputs": [
    {
     "data": {
      "text/plain": [
       "'{\"answer\":[\"Pizza, to danie, kt\\\\u00f3re podbi\\\\u0142o serca niejednego smakosza na ca\\\\u0142ym \\\\u015bwiecie. Jej historia si\\\\u0119ga staro\\\\u017cytnych czas\\\\u00f3w, kiedy to pierwsze wzmianki o podobnych potrawach pojawi\\\\u0142y si\\\\u0119 ju\\\\u017c w staro\\\\u017cytnym Egipcie, Grecji i Rzymie. Jednak to we W\\\\u0142oszech pizza uzyska\\\\u0142a swoj\\\\u0105 najwi\\\\u0119ksz\\\\u0105 popularno\\\\u015b\\\\u0107 i znaczenie. W Neapolu, uwa\\\\u017canym za kolebk\\\\u0119 pizzy, we wsp\\\\u00f3\\\\u0142czesnym jej kszta\\\\u0142cie zacz\\\\u0119\\\\u0142a si\\\\u0119 rozwija\\\\u0107 i zyskiwa\\\\u0107 popularno\\\\u015b\\\\u0107 na \\\\u015bwiatow\\\\u0105 skal\\\\u0119. Dzi\\\\u015b pizza jest jednym z najbardziej rozpoznawalnych da\\\\u0144 w\\\\u0142oskiej kuchni, a jednym z najpopularniejszych jej rodzaj\\\\u00f3w jest pizza margherita.\", \"Sk\\\\u0142adniki na pizz\\\\u0119 to podstawa ka\\\\u017cdej dobrze przygotowanej potrawy. Bez nich trudno wyobrazi\\\\u0107 sobie smakowit\\\\u0105 i aromatyczn\\\\u0105 pizz\\\\u0119, a jednym z najbardziej popularnych rodzaj\\\\u00f3w pizzy jest Margherita. Oto lista niezb\\\\u0119dnych sk\\\\u0142adnik\\\\u00f3w tego klasycznego przysmaku:\\\\n\\\\n1. Ciasto \\\\u2013 podstawa ka\\\\u017cdej pizzy. Mo\\\\u017cesz u\\\\u017cy\\\\u0107 gotowego ciasta do pizzy lub przygotowa\\\\u0107 je samodzielnie, \\\\u0142\\\\u0105cz\\\\u0105c m\\\\u0105k\\\\u0119, dro\\\\u017cd\\\\u017ce, wod\\\\u0119, oliw\\\\u0119 z oliwek i odrobin\\\\u0119 soli.\\\\n\\\\n2. Sos pomidorowy \\\\u2013 g\\\\u0119sty i aromatyczny sos z pomidor\\\\u00f3w, przyprawiony zio\\\\u0142ami jak oregano, bazylia, czosnek i cebula.\\\\n\\\\n3. Ser mozzarella \\\\u2013 tradycyjny w\\\\u0142oski ser, kt\\\\u00f3ry doskonale si\\\\u0119 rozpuszcza i nadaje si\\\\u0119 do pizzy. Mozzarella jest lekko s\\\\u0142ona i ma delikatny smak, idealnie komponuj\\\\u0105cy si\\\\u0119 z pozosta\\\\u0142ymi sk\\\\u0142adnikami.\\\\n\\\\n4. \\\\u015awie\\\\u017ce li\\\\u015bcie bazylii \\\\u2013 aromatyczna zio\\\\u0142a, kt\\\\u00f3re dodaj\\\\u0105 pizzy charakterystycznego smaku i aromatu.\\\\n\\\\nPrzygotowanie pizzy Margherita jest stosunkowo proste \\\\u2013 po rozwa\\\\u0142kowaniu ciasta na placek, nale\\\\u017cy posmarowa\\\\u0107 je sosem pomidorowym, posypa\\\\u0107 startym serem mozzarella i u\\\\u0142o\\\\u017cy\\\\u0107 \\\\u015bwie\\\\u017ce li\\\\u015bcie bazylii. Nast\\\\u0119pnie pizza powinna by\\\\u0107 pieczona w nagrzanym piecu przez oko\\\\u0142o 10-15 minut, a\\\\u017c ciasto b\\\\u0119dzie chrupi\\\\u0105ce, a ser roztopiony i lekko zrumieniony.\\\\n\\\\nSmacznego!\", \"**Mistrzowskie sztuczki przy przyrz\\\\u0105dzaniu margeritty**\\\\n\\\\nPizza Margherita to jedno z najbardziej klasycznych da\\\\u0144 w\\\\u0142oskiej kuchni. Jest to potrawa, kt\\\\u00f3ra wymaga precyzji i umiej\\\\u0119tno\\\\u015bci, ale jednocze\\\\u015bnie mo\\\\u017ce by\\\\u0107 przygotowana w zaciszu w\\\\u0142asnej kuchni. Dzi\\\\u015b podziel\\\\u0119 si\\\\u0119 z Wami kilkoma niezawodnymi trikami, kt\\\\u00f3re sprawi\\\\u0105, \\\\u017ce Wasza margerita b\\\\u0119dzie smakowa\\\\u0107 jak ta prosto z niewielkiej pizzerii na uliczkach Neapolu.\\\\n\\\\n**1. Wybierz wysokiej jako\\\\u015bci sk\\\\u0142adniki**\\\\nPizza Margherita sk\\\\u0142ada si\\\\u0119 z zaledwie kilku sk\\\\u0142adnik\\\\u00f3w, dlatego warto postawi\\\\u0107 na najwy\\\\u017csz\\\\u0105 jako\\\\u015b\\\\u0107. Wybierz soczyste pomidory San Marzano, \\\\u015bwie\\\\u017ce ga\\\\u0142ki mozzarelli oraz \\\\u015bwie\\\\u017c\\\\u0105 bazyli\\\\u0119. Oryginalne w\\\\u0142oskie sk\\\\u0142adniki sprawi\\\\u0105, \\\\u017ce Wasza pizza b\\\\u0119dzie smakowa\\\\u0107 autentycznie.\\\\n\\\\n**2. Przygotuj doskona\\\\u0142e ciasto**\\\\nCiasto to podstawa udanej pizzy. Pami\\\\u0119taj, aby pozwoli\\\\u0107 mu odpowiednio wyrosn\\\\u0105\\\\u0107, a nast\\\\u0119pnie rozwa\\\\u0142kuj je cienko, aby pizza by\\\\u0142a chrupi\\\\u0105ca. Je\\\\u015bli nie masz czasu na przygotowywanie w\\\\u0142asnego ciasta, mo\\\\u017cna skorzysta\\\\u0107 z gotowych podstawek dost\\\\u0119pnych w sklepach.\\\\n\\\\n**3. Delikatnie posmaruj sos pomidorowy**\\\\nSos pomidorowy stanowi baz\\\\u0119 pizzy Margherita, dlatego warto zadba\\\\u0107 o jego odpowiedni\\\\u0105 konsystencj\\\\u0119 i smak. Posmaruj cienk\\\\u0105 warstw\\\\u0105 sosu ca\\\\u0142e ciasto, staraj\\\\u0105c si\\\\u0119 nie przesadzi\\\\u0107, aby nie przyt\\\\u0142oczy\\\\u0107 pozosta\\\\u0142ych sk\\\\u0142adnik\\\\u00f3w.\\\\n\\\\n**4. Roz\\\\u0142\\\\u00f3\\\\u017c r\\\\u00f3wnomiernie mozzarell\\\\u0119**\\\\nKa\\\\u017cdy kawa\\\\u0142ek pizzy powinien zawiera\\\\u0107 r\\\\u00f3wn\\\\u0105 ilo\\\\u015b\\\\u0107 mozzarelli, aby ser r\\\\u00f3wnomiernie roztopi\\\\u0142 si\\\\u0119 na ca\\\\u0142ej powierzchni. Mo\\\\u017cesz u\\\\u017cy\\\\u0107 kawa\\\\u0142k\\\\u00f3w \\\\u015bwie\\\\u017cej mozzarelli lub startej mozzarelli, ale pami\\\\u0119taj o proporcjach.\\\\n\\\\n**5. Dodaj \\\\u015bwie\\\\u017c\\\\u0105 bazyli\\\\u0119 tu\\\\u017c przed podaniem**\\\\nBazyli\\\\u0119 dodaj na sam koniec, zaraz po wyj\\\\u0119ciu pizzy z pieca. \\\\u015awie\\\\u017co\\\\u015b\\\\u0107 bazylii podkre\\\\u015bli smak pozosta\\\\u0142ych sk\\\\u0142adnik\\\\u00f3w i doda charakterystycznego aromatu.\\\\n\\\\n**6. Pami\\\\u0119taj o odpowiedniej temperaturze pieca**\\\\nPizza Margherita najlepiej smakuje, gdy jest pieczona w bardzo gor\\\\u0105cym piecu. Dlatego upewnij si\\\\u0119, \\\\u017ce Tw\\\\u00f3j piekarnik jest nagrzany do maksymalnej temperatury, aby pizza zyska\\\\u0142a chrupi\\\\u0105c\\\\u0105 sk\\\\u00f3rk\\\\u0119 i r\\\\u00f3wno roztopiony ser.\\\\n\\\\nGotowanie pizzy Margherita mo\\\\u017ce by\\\\u0107 prawdziw\\\\u0105 sztuk\\\\u0105, ale z tymi prostymi trikami ka\\\\u017cdy mo\\\\u017ce stworzy\\\\u0107 perfekcyjne w\\\\u0142oskie danie w swojej w\\\\u0142asnej kuchni. Odkryj rado\\\\u015b\\\\u0107 z przyrz\\\\u0105dzania autentycznej pizzy Margherita i delektuj si\\\\u0119 smakiem tradycji w\\\\u0142oskiej kuchni! Buon appetito!\", \"# Pieczenie pizzy w piekarniku: Praktyczny przewodnik\\\\n\\\\nPieczenie pizzy w piekarniku mo\\\\u017ce by\\\\u0107 prawdziw\\\\u0105 sztuk\\\\u0105, ale nie musi by\\\\u0107 trudne! Wystarczy kilka prostych krok\\\\u00f3w, aby stworzy\\\\u0107 idealnie chrupi\\\\u0105c\\\\u0105 i smaczn\\\\u0105 pizz\\\\u0119 Margherit\\\\u0119 w domowym zaciszu. Warto pami\\\\u0119ta\\\\u0107 o kilku istotnych wskaz\\\\u00f3wkach, kt\\\\u00f3re pomog\\\\u0105 Ci osi\\\\u0105gn\\\\u0105\\\\u0107 doskona\\\\u0142y efekt.\\\\n\\\\n## Sk\\\\u0142adniki\\\\n\\\\nPrzed rozpocz\\\\u0119ciem pieczenia pizzy upewnij si\\\\u0119, \\\\u017ce masz wszystkie niezb\\\\u0119dne sk\\\\u0142adniki. Do przygotowania pizzy Margherity potrzebujesz:\\\\n\\\\n- Ciasto na pizz\\\\u0119 (mo\\\\u017cesz u\\\\u017cy\\\\u0107 gotowego lub przygotowa\\\\u0107 je samodzielnie)\\\\n- Sos pomidorowy\\\\n- Mozzarella\\\\n- \\\\u015awie\\\\u017ce bazylia\\\\n- Oliwa z oliwek\\\\n- S\\\\u00f3l i pieprz\\\\n\\\\n## Przygotowanie ciasta\\\\n\\\\nJe\\\\u015bli korzystasz z gotowego ciasta na pizz\\\\u0119, wystarczy rozwa\\\\u0142kowa\\\\u0107 je na blasze wy\\\\u0142o\\\\u017conej papierem do pieczenia. Je\\\\u015bli chcesz przygotowa\\\\u0107 ciasto samodzielnie, zanurz si\\\\u0119 w procesie wytwarzania ciasta zgodnie z wybranym przepisem.\\\\n\\\\n## Dodanie sk\\\\u0142adnik\\\\u00f3w\\\\n\\\\nNa rozwa\\\\u0142kowanym cie\\\\u015bcie rozprowad\\\\u017a sos pomidorowy, pozostawiaj\\\\u0105c nieco miejsca na brzegach. Nast\\\\u0119pnie dodaj plastry mozzarelli i bazyli\\\\u0119. Skrop oliw\\\\u0105 z oliwek i posyp sol\\\\u0105 oraz pieprzem.\\\\n\\\\n## Pieczenie\\\\n\\\\nPiekarnik nale\\\\u017cy wcze\\\\u015bniej nagrza\\\\u0107 do odpowiedniej temperatury (najlepiej sprawdzi\\\\u0107 wskaz\\\\u00f3wki na opakowaniu ciasta). Gdy temperatura jest odpowiednia, w\\\\u0142\\\\u00f3\\\\u017c przygotowan\\\\u0105 pizz\\\\u0119 na \\\\u015brodek piekarnika. Piecz przez oko\\\\u0142o 12-15 minut lub do momentu, gdy brzegi b\\\\u0119d\\\\u0105 rumiane, a ser roztopiony.\\\\n\\\\n## Sprawdzanie gotowo\\\\u015bci\\\\n\\\\nAby upewni\\\\u0107 si\\\\u0119, \\\\u017ce pizza jest gotowa, sprawd\\\\u017a, czy sp\\\\u00f3d jest chrupi\\\\u0105cy, a ser r\\\\u00f3wnomiernie roztopiony. Niekt\\\\u00f3re pieczenie mog\\\\u0105 wymaga\\\\u0107 nieco d\\\\u0142u\\\\u017cszego czasu w zale\\\\u017cno\\\\u015bci od charakterystyki piekarnika, dlatego warto obserwowa\\\\u0107 proces pieczenia.\\\\n\\\\n## Podanie\\\\n\\\\nGotow\\\\u0105 pizz\\\\u0119 Margherit\\\\u0119 mo\\\\u017cna dodatkowo udekorowa\\\\u0107 listkami \\\\u015bwie\\\\u017cej bazylii i skropi\\\\u0107 oliw\\\\u0105 z oliwek. Podawaj gor\\\\u0105c\\\\u0105 i gotow\\\\u0105 do spo\\\\u017cycia!\\\\n\\\\nPieczenie pizzy w piekarniku mo\\\\u017ce by\\\\u0107 przyjemnym do\\\\u015bwiadczeniem, zw\\\\u0142aszcza gdy efekt ko\\\\u0144cowy przekracza oczekiwania. Dzi\\\\u0119ki tym prostym wskaz\\\\u00f3wkom mo\\\\u017cesz cieszy\\\\u0107 si\\\\u0119 smaczn\\\\u0105 i \\\\u015bwie\\\\u017c\\\\u0105 pizz\\\\u0105 Margherit\\\\u0105 w zaciszu w\\\\u0142asnego domu. Smacznego!\"]}'"
      ]
     },
     "execution_count": 32,
     "metadata": {},
     "output_type": "execute_result"
    }
   ],
   "source": [
    "data = \"{\\\"answer\\\":\" + json.dumps(answer_blogger)+\"}\"\n",
    "data"
   ]
  },
  {
   "cell_type": "markdown",
   "metadata": {},
   "source": [
    "Odpowiadamy"
   ]
  },
  {
   "cell_type": "code",
   "execution_count": 33,
   "metadata": {},
   "outputs": [
    {
     "name": "stdout",
     "output_type": "stream",
     "text": [
      "{\n",
      "    \"code\": 0,\n",
      "    \"msg\": \"OK\",\n",
      "    \"note\": \"CORRECT\"\n",
      "}\n"
     ]
    }
   ],
   "source": [
    "answer = requests.post(url + '/answer/' + token_auth, data)\n",
    "\n",
    "print(answer.text)"
   ]
  }
 ],
 "metadata": {
  "kernelspec": {
   "display_name": "Python 3",
   "language": "python",
   "name": "python3"
  },
  "language_info": {
   "codemirror_mode": {
    "name": "ipython",
    "version": 3
   },
   "file_extension": ".py",
   "mimetype": "text/x-python",
   "name": "python",
   "nbconvert_exporter": "python",
   "pygments_lexer": "ipython3",
   "version": "3.11.7"
  }
 },
 "nbformat": 4,
 "nbformat_minor": 2
}
