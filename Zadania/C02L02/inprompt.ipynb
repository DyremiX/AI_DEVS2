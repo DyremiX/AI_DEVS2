{
 "cells": [
  {
   "cell_type": "markdown",
   "metadata": {},
   "source": [
    "Zadanie 4, moderation"
   ]
  },
  {
   "cell_type": "code",
   "execution_count": 11,
   "metadata": {},
   "outputs": [],
   "source": [
    "import requests\n",
    "import json\n",
    "from openai import OpenAI"
   ]
  },
  {
   "cell_type": "markdown",
   "metadata": {},
   "source": [
    "Prywatne !!!"
   ]
  },
  {
   "cell_type": "code",
   "execution_count": 12,
   "metadata": {},
   "outputs": [],
   "source": [
    "client = OpenAI(api_key='tokenAPI')\n",
    "url = 'https://tasks.aidevs.pl'\n",
    "data = \"{\\\"apikey\\\": \\\"61e4ced9-3ca1-4016-919c-190b29bba9ce\\\"}\"\n",
    "zadanie = 'inprompt'"
   ]
  },
  {
   "cell_type": "markdown",
   "metadata": {},
   "source": [
    "Najpierw pobieramy token autoryzacyjny"
   ]
  },
  {
   "cell_type": "code",
   "execution_count": 13,
   "metadata": {},
   "outputs": [
    {
     "data": {
      "text/plain": [
       "{'code': 0, 'msg': 'OK', 'token': 'a885c5f3a5b97f474ab6b5154fbfaa129ff71775'}"
      ]
     },
     "execution_count": 13,
     "metadata": {},
     "output_type": "execute_result"
    }
   ],
   "source": [
    "response = requests.post(url + '/token/' + zadanie,data)\n",
    "token_auth = response.json()['token']\n",
    "response.json()"
   ]
  },
  {
   "cell_type": "markdown",
   "metadata": {},
   "source": [
    "Potem pobieramy zadanie"
   ]
  },
  {
   "cell_type": "code",
   "execution_count": 14,
   "metadata": {},
   "outputs": [
    {
     "data": {
      "text/plain": [
       "{'code': 0,\n",
       " 'msg': 'remember information about each person and then answer the question in POLISH',\n",
       " 'input': ['Abdon ma czarne oczy, średniej długości włosy i pracuje jako prawnik, a na śniadanie najbardziej lubi jeść owsiankę',\n",
       "  'Abel ma czarne oczy, długie włosy i pracuje jako lekarz, a na śniadanie najbardziej lubi jeść kanapki z serem',\n",
       "  'Abelard ma zielone oczy, długie włosy i pracuje jako murarz, a na śniadanie najbardziej lubi jeść kanapki z serem',\n",
       "  'Abraham ma zielone oczy, średniej długości włosy i pracuje jako architekt, a na śniadanie najbardziej lubi jeść jogurt z owocami',\n",
       "  'Achilles ma czarne oczy, średniej długości włosy i pracuje jako fryzjer, a na śniadanie najbardziej lubi jeść kurczaka',\n",
       "  'Adam ma szare oczy, średniej długości włosy i pracuje jako nauczyciel, a na śniadanie najbardziej lubi jeść kurczaka',\n",
       "  'Adelard ma szare oczy, krótkie włosy i pracuje jako prawnik, a na śniadanie najbardziej lubi jeść jogurt z owocami',\n",
       "  'Adnan ma czarne oczy, średniej długości włosy i pracuje jako lekarz, a na śniadanie najbardziej lubi jeść kurczaka',\n",
       "  'Adrian ma czarne oczy, średniej długości włosy i pracuje jako kucharz, a na śniadanie najbardziej lubi jeść bułkę z bananem',\n",
       "  'Agapit ma czarne oczy, krótkie włosy i pracuje jako nauczyciel, a na śniadanie najbardziej lubi jeść parówki',\n",
       "  'Agaton ma niebieskie oczy, średniej długości włosy i pracuje jako programista, a na śniadanie najbardziej lubi jeść jogurt z owocami',\n",
       "  'Agrypin ma szare oczy, średniej długości włosy i pracuje jako kucharz, a na śniadanie najbardziej lubi jeść bułkę z bananem',\n",
       "  'Ajdin ma czarne oczy, krótkie włosy i pracuje jako kucharz, a na śniadanie najbardziej lubi jeść kurczaka',\n",
       "  'Albert ma szare oczy, krótkie włosy i pracuje jako nauczyciel, a na śniadanie najbardziej lubi jeść jogurt z owocami',\n",
       "  'Alan ma brązowe oczy, długie włosy i pracuje jako kierowca, a na śniadanie najbardziej lubi jeść kurczaka',\n",
       "  'Albin ma niebieskie oczy, krótkie włosy i pracuje jako dziennikarz, a na śniadanie najbardziej lubi jeść kanapki z serem',\n",
       "  'Albrecht ma zielone oczy, średniej długości włosy i pracuje jako architekt, a na śniadanie najbardziej lubi jeść kurczaka',\n",
       "  'Aleks ma szare oczy, średniej długości włosy i pracuje jako dziennikarz, a na śniadanie najbardziej lubi jeść jogurt z owocami',\n",
       "  'Aleksander ma brązowe oczy, długie włosy i pracuje jako nauczyciel, a na śniadanie najbardziej lubi jeść owsiankę',\n",
       "  'Aleksy ma szare oczy, średniej długości włosy i pracuje jako architekt, a na śniadanie najbardziej lubi jeść owsiankę',\n",
       "  'Alfons ma brązowe oczy, krótkie włosy i pracuje jako dziennikarz, a na śniadanie najbardziej lubi jeść kanapki z serem',\n",
       "  'Alfred ma szare oczy, długie włosy i pracuje jako architekt, a na śniadanie najbardziej lubi jeść parówki',\n",
       "  'Alojzy ma czarne oczy, krótkie włosy i pracuje jako prawnik, a na śniadanie najbardziej lubi jeść owsiankę',\n",
       "  'Alwin ma zielone oczy, średniej długości włosy i pracuje jako architekt, a na śniadanie najbardziej lubi jeść owsiankę',\n",
       "  'Amadeusz ma zielone oczy, krótkie włosy i pracuje jako kucharz, a na śniadanie najbardziej lubi jeść kurczaka',\n",
       "  'Ambroży ma niebieskie oczy, krótkie włosy i pracuje jako kucharz, a na śniadanie najbardziej lubi jeść parówki',\n",
       "  'Anastazy ma szare oczy, długie włosy i pracuje jako nauczyciel, a na śniadanie najbardziej lubi jeść kanapki z serem',\n",
       "  'Ananiasz ma brązowe oczy, długie włosy i pracuje jako lekarz, a na śniadanie najbardziej lubi jeść parówki',\n",
       "  'Anatol ma brązowe oczy, średniej długości włosy i pracuje jako programista, a na śniadanie najbardziej lubi jeść bułkę z bananem',\n",
       "  'Andrzej ma czarne oczy, średniej długości włosy i pracuje jako programista, a na śniadanie najbardziej lubi jeść owsiankę',\n",
       "  'Anioł ma brązowe oczy, krótkie włosy i pracuje jako nauczyciel, a na śniadanie najbardziej lubi jeść parówki',\n",
       "  'Annasz ma brązowe oczy, krótkie włosy i pracuje jako programista, a na śniadanie najbardziej lubi jeść kurczaka',\n",
       "  'Antoni ma czarne oczy, średniej długości włosy i pracuje jako lekarz, a na śniadanie najbardziej lubi jeść kurczaka',\n",
       "  'Antonin ma szare oczy, średniej długości włosy i pracuje jako architekt, a na śniadanie najbardziej lubi jeść parówki',\n",
       "  'Antonius ma brązowe oczy, długie włosy i pracuje jako lekarz, a na śniadanie najbardziej lubi jeść bułkę z bananem',\n",
       "  'Anzelm ma szare oczy, krótkie włosy i pracuje jako programista, a na śniadanie najbardziej lubi jeść kanapki z serem',\n",
       "  'Apollo ma czarne oczy, średniej długości włosy i pracuje jako nauczyciel, a na śniadanie najbardziej lubi jeść kanapki z serem',\n",
       "  'Apoloniusz ma niebieskie oczy, średniej długości włosy i pracuje jako kierowca, a na śniadanie najbardziej lubi jeść kurczaka',\n",
       "  'Ariel ma niebieskie oczy, średniej długości włosy i pracuje jako muzyk, a na śniadanie najbardziej lubi jeść kanapki z serem',\n",
       "  'Arkadiusz ma niebieskie oczy, długie włosy i pracuje jako kucharz, a na śniadanie najbardziej lubi jeść kurczaka',\n",
       "  'Arkady ma zielone oczy, średniej długości włosy i pracuje jako nauczyciel, a na śniadanie najbardziej lubi jeść bułkę z bananem',\n",
       "  'Arnold ma brązowe oczy, średniej długości włosy i pracuje jako prawnik, a na śniadanie najbardziej lubi jeść owsiankę',\n",
       "  'Artur ma zielone oczy, krótkie włosy i pracuje jako lekarz, a na śniadanie najbardziej lubi jeść owsiankę',\n",
       "  'August ma zielone oczy, krótkie włosy i pracuje jako prawnik, a na śniadanie najbardziej lubi jeść owsiankę',\n",
       "  'Augustyn ma szare oczy, długie włosy i pracuje jako muzyk, a na śniadanie najbardziej lubi jeść kurczaka',\n",
       "  'Aurelian ma czarne oczy, długie włosy i pracuje jako fryzjer, a na śniadanie najbardziej lubi jeść kurczaka',\n",
       "  'Baldwin ma czarne oczy, średniej długości włosy i pracuje jako kierowca, a na śniadanie najbardziej lubi jeść owsiankę',\n",
       "  'Baltazar ma brązowe oczy, długie włosy i pracuje jako nauczyciel, a na śniadanie najbardziej lubi jeść kurczaka',\n",
       "  'Barabasz ma brązowe oczy, krótkie włosy i pracuje jako murarz, a na śniadanie najbardziej lubi jeść parówki',\n",
       "  'Barnim ma brązowe oczy, średniej długości włosy i pracuje jako fryzjer, a na śniadanie najbardziej lubi jeść bułkę z bananem',\n",
       "  'Bartłomiej ma czarne oczy, krótkie włosy i pracuje jako muzyk, a na śniadanie najbardziej lubi jeść kanapki z serem',\n",
       "  'Bartosz ma czarne oczy, długie włosy i pracuje jako nauczyciel, a na śniadanie najbardziej lubi jeść kanapki z serem',\n",
       "  'Bazyli ma niebieskie oczy, krótkie włosy i pracuje jako grafik, a na śniadanie najbardziej lubi jeść owsiankę',\n",
       "  'Beat ma czarne oczy, średniej długości włosy i pracuje jako muzyk, a na śniadanie najbardziej lubi jeść bułkę z bananem',\n",
       "  'Benedykt ma szare oczy, średniej długości włosy i pracuje jako murarz, a na śniadanie najbardziej lubi jeść kurczaka',\n",
       "  'Beniamin ma brązowe oczy, długie włosy i pracuje jako nauczyciel, a na śniadanie najbardziej lubi jeść jogurt z owocami',\n",
       "  'Benon ma czarne oczy, średniej długości włosy i pracuje jako nauczyciel, a na śniadanie najbardziej lubi jeść parówki',\n",
       "  'Bernard ma czarne oczy, długie włosy i pracuje jako murarz, a na śniadanie najbardziej lubi jeść owsiankę',\n",
       "  'Bert ma brązowe oczy, krótkie włosy i pracuje jako murarz, a na śniadanie najbardziej lubi jeść bułkę z bananem',\n",
       "  'Błażej ma niebieskie oczy, długie włosy i pracuje jako architekt, a na śniadanie najbardziej lubi jeść kurczaka',\n",
       "  'Bodosław ma czarne oczy, średniej długości włosy i pracuje jako murarz, a na śniadanie najbardziej lubi jeść kanapki z serem',\n",
       "  'Bogdał ma niebieskie oczy, średniej długości włosy i pracuje jako kierowca, a na śniadanie najbardziej lubi jeść kanapki z serem',\n",
       "  'Bogdan ma czarne oczy, długie włosy i pracuje jako muzyk, a na śniadanie najbardziej lubi jeść bułkę z bananem',\n",
       "  'Boguchwał ma zielone oczy, długie włosy i pracuje jako murarz, a na śniadanie najbardziej lubi jeść parówki',\n",
       "  'Bogumił ma czarne oczy, długie włosy i pracuje jako murarz, a na śniadanie najbardziej lubi jeść owsiankę',\n",
       "  'Bogumir ma brązowe oczy, średniej długości włosy i pracuje jako lekarz, a na śniadanie najbardziej lubi jeść kurczaka',\n",
       "  'Bogusław ma brązowe oczy, średniej długości włosy i pracuje jako murarz, a na śniadanie najbardziej lubi jeść jogurt z owocami',\n",
       "  'Bogusz ma czarne oczy, długie włosy i pracuje jako fryzjer, a na śniadanie najbardziej lubi jeść kurczaka',\n",
       "  'Bolebor ma niebieskie oczy, średniej długości włosy i pracuje jako programista, a na śniadanie najbardziej lubi jeść kurczaka',\n",
       "  'Bolelut ma brązowe oczy, długie włosy i pracuje jako architekt, a na śniadanie najbardziej lubi jeść bułkę z bananem',\n",
       "  'Bolesław ma niebieskie oczy, średniej długości włosy i pracuje jako kucharz, a na śniadanie najbardziej lubi jeść owsiankę',\n",
       "  'Bonawentura ma brązowe oczy, średniej długości włosy i pracuje jako grafik, a na śniadanie najbardziej lubi jeść jogurt z owocami',\n",
       "  'Bonifacy ma szare oczy, średniej długości włosy i pracuje jako architekt, a na śniadanie najbardziej lubi jeść bułkę z bananem',\n",
       "  'Borys ma szare oczy, długie włosy i pracuje jako lekarz, a na śniadanie najbardziej lubi jeść kanapki z serem',\n",
       "  'Borysław ma niebieskie oczy, długie włosy i pracuje jako fryzjer, a na śniadanie najbardziej lubi jeść kurczaka',\n",
       "  'Borzywoj ma czarne oczy, krótkie włosy i pracuje jako fryzjer, a na śniadanie najbardziej lubi jeść owsiankę',\n",
       "  'Bożan ma brązowe oczy, krótkie włosy i pracuje jako muzyk, a na śniadanie najbardziej lubi jeść parówki',\n",
       "  'Bożidar ma szare oczy, średniej długości włosy i pracuje jako nauczyciel, a na śniadanie najbardziej lubi jeść owsiankę',\n",
       "  'Bożydar ma brązowe oczy, średniej długości włosy i pracuje jako lekarz, a na śniadanie najbardziej lubi jeść kanapki z serem',\n",
       "  'Bożimir ma zielone oczy, średniej długości włosy i pracuje jako fryzjer, a na śniadanie najbardziej lubi jeść owsiankę',\n",
       "  'Bromir ma szare oczy, krótkie włosy i pracuje jako architekt, a na śniadanie najbardziej lubi jeść kurczaka',\n",
       "  'Bronisław ma zielone oczy, długie włosy i pracuje jako fryzjer, a na śniadanie najbardziej lubi jeść kanapki z serem',\n",
       "  'Bruno ma szare oczy, średniej długości włosy i pracuje jako dziennikarz, a na śniadanie najbardziej lubi jeść jogurt z owocami',\n",
       "  'Brunon ma zielone oczy, krótkie włosy i pracuje jako grafik, a na śniadanie najbardziej lubi jeść kurczaka',\n",
       "  'Budzisław ma czarne oczy, długie włosy i pracuje jako architekt, a na śniadanie najbardziej lubi jeść kanapki z serem',\n",
       "  'Cecyl ma niebieskie oczy, średniej długości włosy i pracuje jako fryzjer, a na śniadanie najbardziej lubi jeść kanapki z serem',\n",
       "  'Cecylian ma niebieskie oczy, krótkie włosy i pracuje jako programista, a na śniadanie najbardziej lubi jeść jogurt z owocami',\n",
       "  'Celestyn ma szare oczy, średniej długości włosy i pracuje jako kierowca, a na śniadanie najbardziej lubi jeść owsiankę',\n",
       "  'Cezar ma szare oczy, krótkie włosy i pracuje jako kierowca, a na śniadanie najbardziej lubi jeść bułkę z bananem',\n",
       "  'Cezary ma niebieskie oczy, średniej długości włosy i pracuje jako dziennikarz, a na śniadanie najbardziej lubi jeść jogurt z owocami',\n",
       "  'Chociemir ma zielone oczy, średniej długości włosy i pracuje jako programista, a na śniadanie najbardziej lubi jeść parówki',\n",
       "  'Chrystian ma brązowe oczy, krótkie włosy i pracuje jako lekarz, a na śniadanie najbardziej lubi jeść kanapki z serem',\n",
       "  'Chwalibóg ma szare oczy, średniej długości włosy i pracuje jako kierowca, a na śniadanie najbardziej lubi jeść parówki',\n",
       "  'Chwalimir ma niebieskie oczy, krótkie włosy i pracuje jako programista, a na śniadanie najbardziej lubi jeść kurczaka',\n",
       "  'Chwalisław ma szare oczy, krótkie włosy i pracuje jako programista, a na śniadanie najbardziej lubi jeść kanapki z serem',\n",
       "  'Cichosław ma brązowe oczy, krótkie włosy i pracuje jako kucharz, a na śniadanie najbardziej lubi jeść jogurt z owocami',\n",
       "  'Ciechosław ma brązowe oczy, średniej długości włosy i pracuje jako architekt, a na śniadanie najbardziej lubi jeść parówki',\n",
       "  'Cyprian ma szare oczy, średniej długości włosy i pracuje jako kucharz, a na śniadanie najbardziej lubi jeść owsiankę',\n",
       "  'Cyryl ma zielone oczy, średniej długości włosy i pracuje jako kierowca, a na śniadanie najbardziej lubi jeść parówki',\n",
       "  'Czesław ma zielone oczy, krótkie włosy i pracuje jako kucharz, a na śniadanie najbardziej lubi jeść owsiankę',\n",
       "  'Dajmir ma czarne oczy, krótkie włosy i pracuje jako murarz, a na śniadanie najbardziej lubi jeść kanapki z serem',\n",
       "  'Dal ma zielone oczy, krótkie włosy i pracuje jako murarz, a na śniadanie najbardziej lubi jeść parówki',\n",
       "  'Dalbor ma czarne oczy, krótkie włosy i pracuje jako programista, a na śniadanie najbardziej lubi jeść bułkę z bananem',\n",
       "  'Damazy ma szare oczy, średniej długości włosy i pracuje jako grafik, a na śniadanie najbardziej lubi jeść kurczaka',\n",
       "  'Damian ma niebieskie oczy, krótkie włosy i pracuje jako nauczyciel, a na śniadanie najbardziej lubi jeść kanapki z serem',\n",
       "  'Daniel ma brązowe oczy, długie włosy i pracuje jako kierowca, a na śniadanie najbardziej lubi jeść kanapki z serem',\n",
       "  'Danisław ma zielone oczy, krótkie włosy i pracuje jako prawnik, a na śniadanie najbardziej lubi jeść parówki',\n",
       "  'Danko ma zielone oczy, krótkie włosy i pracuje jako kierowca, a na śniadanie najbardziej lubi jeść owsiankę',\n",
       "  'Dargomir ma zielone oczy, średniej długości włosy i pracuje jako kierowca, a na śniadanie najbardziej lubi jeść parówki',\n",
       "  'Dargosław ma czarne oczy, średniej długości włosy i pracuje jako fryzjer, a na śniadanie najbardziej lubi jeść jogurt z owocami',\n",
       "  'Dariusz ma niebieskie oczy, krótkie włosy i pracuje jako programista, a na śniadanie najbardziej lubi jeść jogurt z owocami',\n",
       "  'Darwit ma zielone oczy, krótkie włosy i pracuje jako murarz, a na śniadanie najbardziej lubi jeść jogurt z owocami',\n",
       "  'Dawid ma brązowe oczy, średniej długości włosy i pracuje jako kucharz, a na śniadanie najbardziej lubi jeść jogurt z owocami',\n",
       "  'Denis ma brązowe oczy, długie włosy i pracuje jako architekt, a na śniadanie najbardziej lubi jeść bułkę z bananem',\n",
       "  'Derwit ma zielone oczy, długie włosy i pracuje jako dziennikarz, a na śniadanie najbardziej lubi jeść kurczaka',\n",
       "  'Dionizy ma brązowe oczy, krótkie włosy i pracuje jako nauczyciel, a na śniadanie najbardziej lubi jeść bułkę z bananem',\n",
       "  'Dobiesław ma niebieskie oczy, długie włosy i pracuje jako programista, a na śniadanie najbardziej lubi jeść owsiankę',\n",
       "  'Dobrogost ma zielone oczy, średniej długości włosy i pracuje jako grafik, a na śniadanie najbardziej lubi jeść parówki',\n",
       "  'Dobrosław ma brązowe oczy, krótkie włosy i pracuje jako fryzjer, a na śniadanie najbardziej lubi jeść bułkę z bananem',\n",
       "  'Domasław ma czarne oczy, średniej długości włosy i pracuje jako kucharz, a na śniadanie najbardziej lubi jeść bułkę z bananem',\n",
       "  'Dominik ma szare oczy, krótkie włosy i pracuje jako kucharz, a na śniadanie najbardziej lubi jeść kurczaka',\n",
       "  'Donald ma niebieskie oczy, krótkie włosy i pracuje jako prawnik, a na śniadanie najbardziej lubi jeść kanapki z serem',\n",
       "  'Donat ma zielone oczy, krótkie włosy i pracuje jako fryzjer, a na śniadanie najbardziej lubi jeść owsiankę',\n",
       "  'Dorian ma szare oczy, średniej długości włosy i pracuje jako programista, a na śniadanie najbardziej lubi jeść parówki',\n",
       "  'Duszan ma brązowe oczy, długie włosy i pracuje jako muzyk, a na śniadanie najbardziej lubi jeść owsiankę',\n",
       "  'Dymitr ma szare oczy, średniej długości włosy i pracuje jako programista, a na śniadanie najbardziej lubi jeść kurczaka',\n",
       "  'Dyter ma niebieskie oczy, krótkie włosy i pracuje jako fryzjer, a na śniadanie najbardziej lubi jeść jogurt z owocami',\n",
       "  'Dzwonimierz ma szare oczy, krótkie włosy i pracuje jako nauczyciel, a na śniadanie najbardziej lubi jeść kanapki z serem',\n",
       "  'Dżamil ma brązowe oczy, średniej długości włosy i pracuje jako architekt, a na śniadanie najbardziej lubi jeść bułkę z bananem',\n",
       "  'Dżan ma czarne oczy, długie włosy i pracuje jako architekt, a na śniadanie najbardziej lubi jeść owsiankę',\n",
       "  'Dżem ma szare oczy, średniej długości włosy i pracuje jako architekt, a na śniadanie najbardziej lubi jeść bułkę z bananem',\n",
       "  'Dżemil ma szare oczy, krótkie włosy i pracuje jako lekarz, a na śniadanie najbardziej lubi jeść parówki',\n",
       "  'Edgar ma szare oczy, długie włosy i pracuje jako muzyk, a na śniadanie najbardziej lubi jeść kurczaka',\n",
       "  'Edmund ma czarne oczy, średniej długości włosy i pracuje jako fryzjer, a na śniadanie najbardziej lubi jeść parówki',\n",
       "  'Edward ma zielone oczy, krótkie włosy i pracuje jako kucharz, a na śniadanie najbardziej lubi jeść parówki',\n",
       "  'Edwin ma czarne oczy, średniej długości włosy i pracuje jako prawnik, a na śniadanie najbardziej lubi jeść bułkę z bananem',\n",
       "  'Efraim ma czarne oczy, długie włosy i pracuje jako kierowca, a na śniadanie najbardziej lubi jeść bułkę z bananem',\n",
       "  'Efrem ma niebieskie oczy, długie włosy i pracuje jako architekt, a na śniadanie najbardziej lubi jeść bułkę z bananem',\n",
       "  'Eliasz ma brązowe oczy, długie włosy i pracuje jako kucharz, a na śniadanie najbardziej lubi jeść kanapki z serem',\n",
       "  'Eligiusz ma zielone oczy, długie włosy i pracuje jako prawnik, a na śniadanie najbardziej lubi jeść kanapki z serem',\n",
       "  'Eliot ma zielone oczy, średniej długości włosy i pracuje jako architekt, a na śniadanie najbardziej lubi jeść kanapki z serem',\n",
       "  'Emanuel ma czarne oczy, średniej długości włosy i pracuje jako lekarz, a na śniadanie najbardziej lubi jeść kanapki z serem',\n",
       "  'Emil ma czarne oczy, średniej długości włosy i pracuje jako dziennikarz, a na śniadanie najbardziej lubi jeść kanapki z serem',\n",
       "  'Emir ma zielone oczy, średniej długości włosy i pracuje jako kucharz, a na śniadanie najbardziej lubi jeść parówki',\n",
       "  'Erazm ma szare oczy, długie włosy i pracuje jako lekarz, a na śniadanie najbardziej lubi jeść owsiankę',\n",
       "  'Ernest ma brązowe oczy, krótkie włosy i pracuje jako fryzjer, a na śniadanie najbardziej lubi jeść jogurt z owocami',\n",
       "  'Erwin ma zielone oczy, krótkie włosy i pracuje jako architekt, a na śniadanie najbardziej lubi jeść kurczaka',\n",
       "  'Eugeniusz ma niebieskie oczy, długie włosy i pracuje jako muzyk, a na śniadanie najbardziej lubi jeść parówki',\n",
       "  'Eryk ma brązowe oczy, długie włosy i pracuje jako dziennikarz, a na śniadanie najbardziej lubi jeść owsiankę',\n",
       "  'Ewald ma czarne oczy, średniej długości włosy i pracuje jako dziennikarz, a na śniadanie najbardziej lubi jeść jogurt z owocami',\n",
       "  'Ewaryst ma brązowe oczy, krótkie włosy i pracuje jako kucharz, a na śniadanie najbardziej lubi jeść bułkę z bananem',\n",
       "  'Ezaw ma niebieskie oczy, długie włosy i pracuje jako kucharz, a na śniadanie najbardziej lubi jeść owsiankę',\n",
       "  'Ezechiel ma szare oczy, długie włosy i pracuje jako programista, a na śniadanie najbardziej lubi jeść owsiankę',\n",
       "  'Fabian ma niebieskie oczy, krótkie włosy i pracuje jako prawnik, a na śniadanie najbardziej lubi jeść parówki',\n",
       "  'Farid ma szare oczy, długie włosy i pracuje jako muzyk, a na śniadanie najbardziej lubi jeść kurczaka',\n",
       "  'Faris ma brązowe oczy, długie włosy i pracuje jako kierowca, a na śniadanie najbardziej lubi jeść parówki',\n",
       "  'Faustyn ma brązowe oczy, krótkie włosy i pracuje jako architekt, a na śniadanie najbardziej lubi jeść bułkę z bananem',\n",
       "  'Felicjan ma brązowe oczy, średniej długości włosy i pracuje jako architekt, a na śniadanie najbardziej lubi jeść kurczaka',\n",
       "  'Feliks ma szare oczy, średniej długości włosy i pracuje jako prawnik, a na śniadanie najbardziej lubi jeść bułkę z bananem',\n",
       "  'Ferdynand ma niebieskie oczy, długie włosy i pracuje jako murarz, a na śniadanie najbardziej lubi jeść parówki',\n",
       "  'Filip ma szare oczy, krótkie włosy i pracuje jako kucharz, a na śniadanie najbardziej lubi jeść jogurt z owocami',\n",
       "  'Florentyn ma szare oczy, długie włosy i pracuje jako lekarz, a na śniadanie najbardziej lubi jeść parówki',\n",
       "  'Florian ma czarne oczy, krótkie włosy i pracuje jako kierowca, a na śniadanie najbardziej lubi jeść parówki',\n",
       "  'Fortunat ma zielone oczy, średniej długości włosy i pracuje jako muzyk, a na śniadanie najbardziej lubi jeść owsiankę',\n",
       "  'Franciszek ma zielone oczy, średniej długości włosy i pracuje jako fryzjer, a na śniadanie najbardziej lubi jeść bułkę z bananem',\n",
       "  'Fryc ma niebieskie oczy, krótkie włosy i pracuje jako muzyk, a na śniadanie najbardziej lubi jeść bułkę z bananem',\n",
       "  'Fryderyk ma szare oczy, długie włosy i pracuje jako kucharz, a na śniadanie najbardziej lubi jeść jogurt z owocami',\n",
       "  'Gabriel ma czarne oczy, krótkie włosy i pracuje jako prawnik, a na śniadanie najbardziej lubi jeść owsiankę',\n",
       "  'Gabor ma niebieskie oczy, długie włosy i pracuje jako kucharz, a na śniadanie najbardziej lubi jeść parówki',\n",
       "  'Gaj ma niebieskie oczy, średniej długości włosy i pracuje jako fryzjer, a na śniadanie najbardziej lubi jeść bułkę z bananem',\n",
       "  'Gardomir ma niebieskie oczy, krótkie włosy i pracuje jako kierowca, a na śniadanie najbardziej lubi jeść jogurt z owocami',\n",
       "  'Gaweł ma niebieskie oczy, krótkie włosy i pracuje jako kierowca, a na śniadanie najbardziej lubi jeść bułkę z bananem',\n",
       "  'Gerard ma czarne oczy, średniej długości włosy i pracuje jako prawnik, a na śniadanie najbardziej lubi jeść kanapki z serem',\n",
       "  'Gerwazy ma czarne oczy, krótkie włosy i pracuje jako muzyk, a na śniadanie najbardziej lubi jeść kurczaka',\n",
       "  'Gilbert ma szare oczy, długie włosy i pracuje jako murarz, a na śniadanie najbardziej lubi jeść kanapki z serem',\n",
       "  'Ginter ma brązowe oczy, długie włosy i pracuje jako kierowca, a na śniadanie najbardziej lubi jeść kurczaka',\n",
       "  'Gniewomir ma szare oczy, krótkie włosy i pracuje jako muzyk, a na śniadanie najbardziej lubi jeść kanapki z serem',\n",
       "  'Gniewosz ma niebieskie oczy, długie włosy i pracuje jako murarz, a na śniadanie najbardziej lubi jeść jogurt z owocami',\n",
       "  'Godfryg ma niebieskie oczy, krótkie włosy i pracuje jako nauczyciel, a na śniadanie najbardziej lubi jeść bułkę z bananem',\n",
       "  'Godfryd ma czarne oczy, średniej długości włosy i pracuje jako fryzjer, a na śniadanie najbardziej lubi jeść owsiankę',\n",
       "  'Godzisław ma brązowe oczy, długie włosy i pracuje jako lekarz, a na śniadanie najbardziej lubi jeść kanapki z serem',\n",
       "  'Gościsław ma czarne oczy, długie włosy i pracuje jako fryzjer, a na śniadanie najbardziej lubi jeść owsiankę',\n",
       "  'Gracjan ma czarne oczy, długie włosy i pracuje jako architekt, a na śniadanie najbardziej lubi jeść parówki',\n",
       "  'Grodzisław ma szare oczy, krótkie włosy i pracuje jako dziennikarz, a na śniadanie najbardziej lubi jeść owsiankę',\n",
       "  'Grzegorz ma brązowe oczy, długie włosy i pracuje jako grafik, a na śniadanie najbardziej lubi jeść kanapki z serem',\n",
       "  'Grzymisław ma czarne oczy, krótkie włosy i pracuje jako grafik, a na śniadanie najbardziej lubi jeść bułkę z bananem',\n",
       "  'Gustaw ma niebieskie oczy, krótkie włosy i pracuje jako programista, a na śniadanie najbardziej lubi jeść parówki',\n",
       "  'Gwalbert ma niebieskie oczy, krótkie włosy i pracuje jako murarz, a na śniadanie najbardziej lubi jeść bułkę z bananem',\n",
       "  'Gwido ma zielone oczy, krótkie włosy i pracuje jako prawnik, a na śniadanie najbardziej lubi jeść kanapki z serem',\n",
       "  'Gwidon ma niebieskie oczy, średniej długości włosy i pracuje jako kucharz, a na śniadanie najbardziej lubi jeść jogurt z owocami',\n",
       "  'Hadrian ma brązowe oczy, długie włosy i pracuje jako prawnik, a na śniadanie najbardziej lubi jeść parówki',\n",
       "  'Hamza ma czarne oczy, średniej długości włosy i pracuje jako grafik, a na śniadanie najbardziej lubi jeść owsiankę',\n",
       "  'Hanusz ma niebieskie oczy, długie włosy i pracuje jako murarz, a na śniadanie najbardziej lubi jeść parówki',\n",
       "  'Hasan ma brązowe oczy, krótkie włosy i pracuje jako dziennikarz, a na śniadanie najbardziej lubi jeść kurczaka',\n",
       "  'Hektor ma czarne oczy, średniej długości włosy i pracuje jako grafik, a na śniadanie najbardziej lubi jeść owsiankę',\n",
       "  'Heliodor ma szare oczy, długie włosy i pracuje jako fryzjer, a na śniadanie najbardziej lubi jeść owsiankę',\n",
       "  'Henryk ma zielone oczy, średniej długości włosy i pracuje jako kierowca, a na śniadanie najbardziej lubi jeść kurczaka',\n",
       "  'Herakles ma szare oczy, krótkie włosy i pracuje jako murarz, a na śniadanie najbardziej lubi jeść owsiankę',\n",
       "  'Herbert ma czarne oczy, krótkie włosy i pracuje jako dziennikarz, a na śniadanie najbardziej lubi jeść owsiankę',\n",
       "  'Herman ma zielone oczy, długie włosy i pracuje jako murarz, a na śniadanie najbardziej lubi jeść parówki',\n",
       "  'Hermes ma czarne oczy, krótkie włosy i pracuje jako lekarz, a na śniadanie najbardziej lubi jeść kurczaka',\n",
       "  'Hiacynt ma niebieskie oczy, krótkie włosy i pracuje jako architekt, a na śniadanie najbardziej lubi jeść jogurt z owocami',\n",
       "  'Hieronim ma zielone oczy, krótkie włosy i pracuje jako lekarz, a na śniadanie najbardziej lubi jeść kurczaka',\n",
       "  'Hilary ma niebieskie oczy, średniej długości włosy i pracuje jako grafik, a na śniadanie najbardziej lubi jeść owsiankę',\n",
       "  'Hipolit ma czarne oczy, krótkie włosy i pracuje jako fryzjer, a na śniadanie najbardziej lubi jeść parówki',\n",
       "  'Honorat ma brązowe oczy, średniej długości włosy i pracuje jako lekarz, a na śniadanie najbardziej lubi jeść kurczaka',\n",
       "  'Horacy ma szare oczy, średniej długości włosy i pracuje jako programista, a na śniadanie najbardziej lubi jeść owsiankę',\n",
       "  'Hubert ma szare oczy, długie włosy i pracuje jako dziennikarz, a na śniadanie najbardziej lubi jeść parówki',\n",
       "  'Hugo ma brązowe oczy, długie włosy i pracuje jako kierowca, a na śniadanie najbardziej lubi jeść kurczaka',\n",
       "  'Hugon ma brązowe oczy, średniej długości włosy i pracuje jako programista, a na śniadanie najbardziej lubi jeść owsiankę',\n",
       "  'Husajn ma niebieskie oczy, długie włosy i pracuje jako prawnik, a na śniadanie najbardziej lubi jeść kanapki z serem',\n",
       "  'Idzi ma szare oczy, średniej długości włosy i pracuje jako fryzjer, a na śniadanie najbardziej lubi jeść jogurt z owocami',\n",
       "  'Ignacy ma czarne oczy, średniej długości włosy i pracuje jako kucharz, a na śniadanie najbardziej lubi jeść bułkę z bananem',\n",
       "  'Igor ma szare oczy, długie włosy i pracuje jako kucharz, a na śniadanie najbardziej lubi jeść kanapki z serem',\n",
       "  'Ildefons ma szare oczy, krótkie włosy i pracuje jako grafik, a na śniadanie najbardziej lubi jeść jogurt z owocami',\n",
       "  'Inocenty ma zielone oczy, długie włosy i pracuje jako kucharz, a na śniadanie najbardziej lubi jeść kanapki z serem',\n",
       "  'Ireneusz ma niebieskie oczy, krótkie włosy i pracuje jako kucharz, a na śniadanie najbardziej lubi jeść parówki',\n",
       "  'Iwan ma brązowe oczy, krótkie włosy i pracuje jako nauczyciel, a na śniadanie najbardziej lubi jeść jogurt z owocami',\n",
       "  'Iwo ma brązowe oczy, średniej długości włosy i pracuje jako prawnik, a na śniadanie najbardziej lubi jeść kurczaka',\n",
       "  'Iwon ma szare oczy, długie włosy i pracuje jako kierowca, a na śniadanie najbardziej lubi jeść owsiankę',\n",
       "  'Izajasz ma zielone oczy, długie włosy i pracuje jako prawnik, a na śniadanie najbardziej lubi jeść kurczaka',\n",
       "  'Izydor ma niebieskie oczy, krótkie włosy i pracuje jako grafik, a na śniadanie najbardziej lubi jeść bułkę z bananem',\n",
       "  'Jacek ma zielone oczy, średniej długości włosy i pracuje jako murarz, a na śniadanie najbardziej lubi jeść jogurt z owocami',\n",
       "  'Jacenty ma niebieskie oczy, krótkie włosy i pracuje jako kucharz, a na śniadanie najbardziej lubi jeść kanapki z serem',\n",
       "  'Jakub ma czarne oczy, krótkie włosy i pracuje jako grafik, a na śniadanie najbardziej lubi jeść parówki',\n",
       "  'Jan ma zielone oczy, długie włosy i pracuje jako prawnik, a na śniadanie najbardziej lubi jeść owsiankę',\n",
       "  'January ma szare oczy, średniej długości włosy i pracuje jako kucharz, a na śniadanie najbardziej lubi jeść bułkę z bananem',\n",
       "  'Janusz ma czarne oczy, krótkie włosy i pracuje jako dziennikarz, a na śniadanie najbardziej lubi jeść jogurt z owocami',\n",
       "  'Jarad ma niebieskie oczy, krótkie włosy i pracuje jako murarz, a na śniadanie najbardziej lubi jeść owsiankę',\n",
       "  'Jaromir ma niebieskie oczy, długie włosy i pracuje jako prawnik, a na śniadanie najbardziej lubi jeść parówki',\n",
       "  'Jaropełk ma szare oczy, krótkie włosy i pracuje jako nauczyciel, a na śniadanie najbardziej lubi jeść bułkę z bananem',\n",
       "  'Jarosław ma brązowe oczy, krótkie włosy i pracuje jako prawnik, a na śniadanie najbardziej lubi jeść bułkę z bananem',\n",
       "  'Jarowit ma czarne oczy, długie włosy i pracuje jako programista, a na śniadanie najbardziej lubi jeść bułkę z bananem',\n",
       "  'Jeremiasz ma niebieskie oczy, długie włosy i pracuje jako kierowca, a na śniadanie najbardziej lubi jeść kurczaka',\n",
       "  'Jerzy ma brązowe oczy, średniej długości włosy i pracuje jako programista, a na śniadanie najbardziej lubi jeść owsiankę',\n",
       "  'Jędrzej ma czarne oczy, długie włosy i pracuje jako kucharz, a na śniadanie najbardziej lubi jeść kurczaka',\n",
       "  'Joachim ma brązowe oczy, średniej długości włosy i pracuje jako murarz, a na śniadanie najbardziej lubi jeść kurczaka',\n",
       "  'Jona ma brązowe oczy, krótkie włosy i pracuje jako nauczyciel, a na śniadanie najbardziej lubi jeść owsiankę',\n",
       "  'Jonasz ma czarne oczy, krótkie włosy i pracuje jako prawnik, a na śniadanie najbardziej lubi jeść kanapki z serem',\n",
       "  'Jonatan ma zielone oczy, średniej długości włosy i pracuje jako architekt, a na śniadanie najbardziej lubi jeść jogurt z owocami',\n",
       "  'Jozafat ma niebieskie oczy, krótkie włosy i pracuje jako murarz, a na śniadanie najbardziej lubi jeść kurczaka',\n",
       "  'Józef ma zielone oczy, średniej długości włosy i pracuje jako dziennikarz, a na śniadanie najbardziej lubi jeść kanapki z serem',\n",
       "  'Józefat ma szare oczy, średniej długości włosy i pracuje jako programista, a na śniadanie najbardziej lubi jeść jogurt z owocami',\n",
       "  'Julian ma szare oczy, średniej długości włosy i pracuje jako dziennikarz, a na śniadanie najbardziej lubi jeść kanapki z serem',\n",
       "  'Juliusz ma brązowe oczy, długie włosy i pracuje jako muzyk, a na śniadanie najbardziej lubi jeść kurczaka',\n",
       "  'Jur ma czarne oczy, krótkie włosy i pracuje jako nauczyciel, a na śniadanie najbardziej lubi jeść owsiankę',\n",
       "  'Juri ma czarne oczy, średniej długości włosy i pracuje jako nauczyciel, a na śniadanie najbardziej lubi jeść kanapki z serem',\n",
       "  'Justyn ma niebieskie oczy, krótkie włosy i pracuje jako kucharz, a na śniadanie najbardziej lubi jeść kurczaka',\n",
       "  'Justynian ma szare oczy, krótkie włosy i pracuje jako dziennikarz, a na śniadanie najbardziej lubi jeść jogurt z owocami',\n",
       "  'Jasuf ma zielone oczy, długie włosy i pracuje jako kierowca, a na śniadanie najbardziej lubi jeść kurczaka',\n",
       "  'Kacper ma brązowe oczy, średniej długości włosy i pracuje jako kucharz, a na śniadanie najbardziej lubi jeść kurczaka',\n",
       "  'Kain ma zielone oczy, średniej długości włosy i pracuje jako dziennikarz, a na śniadanie najbardziej lubi jeść parówki',\n",
       "  'Kajetan ma zielone oczy, średniej długości włosy i pracuje jako grafik, a na śniadanie najbardziej lubi jeść jogurt z owocami',\n",
       "  'Kajfasz ma czarne oczy, krótkie włosy i pracuje jako kucharz, a na śniadanie najbardziej lubi jeść parówki',\n",
       "  'Kajusz ma brązowe oczy, długie włosy i pracuje jako architekt, a na śniadanie najbardziej lubi jeść kanapki z serem',\n",
       "  'Kamil ma brązowe oczy, średniej długości włosy i pracuje jako architekt, a na śniadanie najbardziej lubi jeść kanapki z serem',\n",
       "  'Kanimir ma szare oczy, średniej długości włosy i pracuje jako architekt, a na śniadanie najbardziej lubi jeść parówki',\n",
       "  'Karol ma brązowe oczy, długie włosy i pracuje jako lekarz, a na śniadanie najbardziej lubi jeść parówki',\n",
       "  'Kasjusz ma zielone oczy, średniej długości włosy i pracuje jako grafik, a na śniadanie najbardziej lubi jeść owsiankę',\n",
       "  'Kasper ma szare oczy, średniej długości włosy i pracuje jako muzyk, a na śniadanie najbardziej lubi jeść kanapki z serem',\n",
       "  'Kastor ma niebieskie oczy, średniej długości włosy i pracuje jako lekarz, a na śniadanie najbardziej lubi jeść parówki',\n",
       "  'Kazimierz ma niebieskie oczy, krótkie włosy i pracuje jako dziennikarz, a na śniadanie najbardziej lubi jeść owsiankę',\n",
       "  'Kemal ma czarne oczy, długie włosy i pracuje jako lekarz, a na śniadanie najbardziej lubi jeść owsiankę',\n",
       "  'Kilian ma niebieskie oczy, długie włosy i pracuje jako dziennikarz, a na śniadanie najbardziej lubi jeść kurczaka',\n",
       "  'Klaudiusz ma niebieskie oczy, średniej długości włosy i pracuje jako architekt, a na śniadanie najbardziej lubi jeść owsiankę',\n",
       "  'Klemens ma brązowe oczy, średniej długości włosy i pracuje jako dziennikarz, a na śniadanie najbardziej lubi jeść kanapki z serem',\n",
       "  'Kochan ma szare oczy, krótkie włosy i pracuje jako dziennikarz, a na śniadanie najbardziej lubi jeść parówki',\n",
       "  'Kondrat ma czarne oczy, średniej długości włosy i pracuje jako architekt, a na śniadanie najbardziej lubi jeść owsiankę',\n",
       "  'Konrad ma niebieskie oczy, długie włosy i pracuje jako fryzjer, a na śniadanie najbardziej lubi jeść kanapki z serem',\n",
       "  'Konradyn ma czarne oczy, krótkie włosy i pracuje jako architekt, a na śniadanie najbardziej lubi jeść bułkę z bananem',\n",
       "  'Konstancjusz ma brązowe oczy, krótkie włosy i pracuje jako kucharz, a na śniadanie najbardziej lubi jeść parówki',\n",
       "  'Konstanty ma brązowe oczy, długie włosy i pracuje jako dziennikarz, a na śniadanie najbardziej lubi jeść bułkę z bananem',\n",
       "  'Konstantyn ma szare oczy, długie włosy i pracuje jako kierowca, a na śniadanie najbardziej lubi jeść jogurt z owocami',\n",
       "  'Kordian ma brązowe oczy, krótkie włosy i pracuje jako architekt, a na śniadanie najbardziej lubi jeść parówki'],\n",
       " 'question': 'jakiego koloru oczy ma Ezaw?'}"
      ]
     },
     "execution_count": 14,
     "metadata": {},
     "output_type": "execute_result"
    }
   ],
   "source": [
    "quest = requests.get(url + '/task/' + token_auth)\n",
    "quest.json()"
   ]
  },
  {
   "cell_type": "code",
   "execution_count": null,
   "metadata": {},
   "outputs": [],
   "source": []
  },
  {
   "cell_type": "code",
   "execution_count": 15,
   "metadata": {},
   "outputs": [],
   "source": [
    "names = [text.split()[0] for text in quest.json()['input']]\n",
    "info = quest.json()['input']"
   ]
  },
  {
   "cell_type": "code",
   "execution_count": 16,
   "metadata": {},
   "outputs": [
    {
     "data": {
      "text/plain": [
       "'jakiego koloru oczy ma Ezaw?'"
      ]
     },
     "execution_count": 16,
     "metadata": {},
     "output_type": "execute_result"
    }
   ],
   "source": [
    "quest.json()['question']"
   ]
  },
  {
   "cell_type": "code",
   "execution_count": 17,
   "metadata": {},
   "outputs": [
    {
     "data": {
      "text/plain": [
       "14"
      ]
     },
     "execution_count": 17,
     "metadata": {},
     "output_type": "execute_result"
    }
   ],
   "source": [
    "names.index('Alan')"
   ]
  },
  {
   "cell_type": "markdown",
   "metadata": {},
   "source": [
    "Rozwiązanie"
   ]
  },
  {
   "cell_type": "code",
   "execution_count": 18,
   "metadata": {},
   "outputs": [],
   "source": [
    "def inprompt(question):\n",
    "    info_question = ''\n",
    "    for name in names:\n",
    "        if name.upper() in question.upper():\n",
    "            info_question = info[names.index(name)]\n",
    "    return client.chat.completions.create(\n",
    "  model=\"gpt-3.5-turbo\",\n",
    "  messages=[\n",
    "    {\"role\": \"system\", \"content\": f\"Odpowiadasz na pytania zgodnie z contextem. ###Context \\n {info_question} \\n ###\"},\n",
    "    {\"role\": \"user\", \"content\": question}\n",
    "  ]\n",
    ").choices[0].message.content"
   ]
  },
  {
   "cell_type": "markdown",
   "metadata": {},
   "source": [
    "szykujemy odpowiedź"
   ]
  },
  {
   "cell_type": "code",
   "execution_count": 19,
   "metadata": {},
   "outputs": [
    {
     "data": {
      "text/plain": [
       "'{\"answer\":\"Ezaw ma niebieskie oczy.\"}'"
      ]
     },
     "execution_count": 19,
     "metadata": {},
     "output_type": "execute_result"
    }
   ],
   "source": [
    "data = \"{\\\"answer\\\":\" + json.dumps(inprompt(quest.json()['question']))+\"}\"\n",
    "data"
   ]
  },
  {
   "cell_type": "markdown",
   "metadata": {},
   "source": [
    "Odpowiadamy"
   ]
  },
  {
   "cell_type": "code",
   "execution_count": 20,
   "metadata": {},
   "outputs": [
    {
     "name": "stdout",
     "output_type": "stream",
     "text": [
      "{\n",
      "    \"code\": 0,\n",
      "    \"msg\": \"OK\",\n",
      "    \"note\": \"CORRECT\"\n",
      "}\n"
     ]
    }
   ],
   "source": [
    "answer = requests.post(url + '/answer/' + token_auth, data)\n",
    "\n",
    "print(answer.text)"
   ]
  }
 ],
 "metadata": {
  "kernelspec": {
   "display_name": "Python 3",
   "language": "python",
   "name": "python3"
  },
  "language_info": {
   "codemirror_mode": {
    "name": "ipython",
    "version": 3
   },
   "file_extension": ".py",
   "mimetype": "text/x-python",
   "name": "python",
   "nbconvert_exporter": "python",
   "pygments_lexer": "ipython3",
   "version": "3.11.7"
  }
 },
 "nbformat": 4,
 "nbformat_minor": 2
}
